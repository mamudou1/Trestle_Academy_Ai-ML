{
  "nbformat": 4,
  "nbformat_minor": 0,
  "metadata": {
    "colab": {
      "provenance": []
    },
    "kernelspec": {
      "name": "python3",
      "display_name": "Python 3"
    },
    "language_info": {
      "name": "python"
    }
  },
  "cells": [
    {
      "cell_type": "code",
      "source": [
        "import pandas as pd\n",
        "\n",
        "\n",
        "df = pd.read_csv('Static_dataset.csv')"
      ],
      "metadata": {
        "id": "KJT167FLtzk0"
      },
      "execution_count": 2,
      "outputs": []
    },
    {
      "cell_type": "code",
      "execution_count": 3,
      "metadata": {
        "id": "_wbkJsxfPtQy",
        "colab": {
          "base_uri": "https://localhost:8080/",
          "height": 815
        },
        "outputId": "704da03f-970c-418f-adde-c913e6f3fbd1"
      },
      "outputs": [
        {
          "output_type": "stream",
          "name": "stdout",
          "text": [
            "<class 'pandas.core.frame.DataFrame'>\n",
            "RangeIndex: 268074 entries, 0 to 268073\n",
            "Data columns (total 16 columns):\n",
            " #   Column            Non-Null Count   Dtype  \n",
            "---  ------            --------------   -----  \n",
            " 0   timestamp         268074 non-null  object \n",
            " 1   FQDN_count        268074 non-null  int64  \n",
            " 2   subdomain_length  268074 non-null  int64  \n",
            " 3   upper             268074 non-null  int64  \n",
            " 4   lower             268074 non-null  int64  \n",
            " 5   numeric           268074 non-null  int64  \n",
            " 6   entropy           268074 non-null  float64\n",
            " 7   special           268074 non-null  int64  \n",
            " 8   labels            268074 non-null  int64  \n",
            " 9   labels_max        268074 non-null  int64  \n",
            " 10  labels_average    268074 non-null  float64\n",
            " 11  longest_word      268066 non-null  object \n",
            " 12  sld               268074 non-null  object \n",
            " 13  len               268074 non-null  int64  \n",
            " 14  subdomain         268074 non-null  int64  \n",
            " 15  Target Attack     268074 non-null  int64  \n",
            "dtypes: float64(2), int64(11), object(3)\n",
            "memory usage: 32.7+ MB\n",
            "\n",
            "\n"
          ]
        },
        {
          "output_type": "execute_result",
          "data": {
            "text/plain": [
              "          FQDN_count  subdomain_length          upper          lower  \\\n",
              "count  268074.000000     268074.000000  268074.000000  268074.000000   \n",
              "mean       22.286596          6.059021       0.845420      10.410014   \n",
              "std         6.001205          3.899505       4.941929       3.207725   \n",
              "min         2.000000          0.000000       0.000000       0.000000   \n",
              "25%        18.000000          3.000000       0.000000      10.000000   \n",
              "50%        24.000000          7.000000       0.000000      10.000000   \n",
              "75%        27.000000         10.000000       0.000000      10.000000   \n",
              "max        36.000000         23.000000      32.000000      34.000000   \n",
              "\n",
              "             numeric        entropy        special         labels  \\\n",
              "count  268074.000000  268074.000000  268074.000000  268074.000000   \n",
              "mean        6.497586       2.485735       4.533577       4.788823   \n",
              "std         4.499866       0.407709       2.187683       1.803256   \n",
              "min         0.000000       0.219195       0.000000       1.000000   \n",
              "25%         0.000000       2.054029       2.000000       3.000000   \n",
              "50%         8.000000       2.570417       6.000000       6.000000   \n",
              "75%        10.000000       2.767195       6.000000       6.000000   \n",
              "max        12.000000       4.216847       7.000000       7.000000   \n",
              "\n",
              "          labels_max  labels_average            len      subdomain  \\\n",
              "count  268074.000000   268074.000000  268074.000000  268074.000000   \n",
              "mean        8.252233        4.802239      12.576714       0.753497   \n",
              "std         4.415355        4.573066       4.177828       0.430975   \n",
              "min         2.000000        2.000000       2.000000       0.000000   \n",
              "25%         7.000000        3.166667      11.000000       1.000000   \n",
              "50%         7.000000        3.666667      12.000000       1.000000   \n",
              "75%         7.000000        4.000000      14.000000       1.000000   \n",
              "max        32.000000       32.000000      33.000000       1.000000   \n",
              "\n",
              "       Target Attack  \n",
              "count  268074.000000  \n",
              "mean        0.549024  \n",
              "std         0.497592  \n",
              "min         0.000000  \n",
              "25%         0.000000  \n",
              "50%         1.000000  \n",
              "75%         1.000000  \n",
              "max         1.000000  "
            ],
            "text/html": [
              "\n",
              "  <div id=\"df-bc8e8801-fa55-47a8-bef4-72db7b8656ae\">\n",
              "    <div class=\"colab-df-container\">\n",
              "      <div>\n",
              "<style scoped>\n",
              "    .dataframe tbody tr th:only-of-type {\n",
              "        vertical-align: middle;\n",
              "    }\n",
              "\n",
              "    .dataframe tbody tr th {\n",
              "        vertical-align: top;\n",
              "    }\n",
              "\n",
              "    .dataframe thead th {\n",
              "        text-align: right;\n",
              "    }\n",
              "</style>\n",
              "<table border=\"1\" class=\"dataframe\">\n",
              "  <thead>\n",
              "    <tr style=\"text-align: right;\">\n",
              "      <th></th>\n",
              "      <th>FQDN_count</th>\n",
              "      <th>subdomain_length</th>\n",
              "      <th>upper</th>\n",
              "      <th>lower</th>\n",
              "      <th>numeric</th>\n",
              "      <th>entropy</th>\n",
              "      <th>special</th>\n",
              "      <th>labels</th>\n",
              "      <th>labels_max</th>\n",
              "      <th>labels_average</th>\n",
              "      <th>len</th>\n",
              "      <th>subdomain</th>\n",
              "      <th>Target Attack</th>\n",
              "    </tr>\n",
              "  </thead>\n",
              "  <tbody>\n",
              "    <tr>\n",
              "      <th>count</th>\n",
              "      <td>268074.000000</td>\n",
              "      <td>268074.000000</td>\n",
              "      <td>268074.000000</td>\n",
              "      <td>268074.000000</td>\n",
              "      <td>268074.000000</td>\n",
              "      <td>268074.000000</td>\n",
              "      <td>268074.000000</td>\n",
              "      <td>268074.000000</td>\n",
              "      <td>268074.000000</td>\n",
              "      <td>268074.000000</td>\n",
              "      <td>268074.000000</td>\n",
              "      <td>268074.000000</td>\n",
              "      <td>268074.000000</td>\n",
              "    </tr>\n",
              "    <tr>\n",
              "      <th>mean</th>\n",
              "      <td>22.286596</td>\n",
              "      <td>6.059021</td>\n",
              "      <td>0.845420</td>\n",
              "      <td>10.410014</td>\n",
              "      <td>6.497586</td>\n",
              "      <td>2.485735</td>\n",
              "      <td>4.533577</td>\n",
              "      <td>4.788823</td>\n",
              "      <td>8.252233</td>\n",
              "      <td>4.802239</td>\n",
              "      <td>12.576714</td>\n",
              "      <td>0.753497</td>\n",
              "      <td>0.549024</td>\n",
              "    </tr>\n",
              "    <tr>\n",
              "      <th>std</th>\n",
              "      <td>6.001205</td>\n",
              "      <td>3.899505</td>\n",
              "      <td>4.941929</td>\n",
              "      <td>3.207725</td>\n",
              "      <td>4.499866</td>\n",
              "      <td>0.407709</td>\n",
              "      <td>2.187683</td>\n",
              "      <td>1.803256</td>\n",
              "      <td>4.415355</td>\n",
              "      <td>4.573066</td>\n",
              "      <td>4.177828</td>\n",
              "      <td>0.430975</td>\n",
              "      <td>0.497592</td>\n",
              "    </tr>\n",
              "    <tr>\n",
              "      <th>min</th>\n",
              "      <td>2.000000</td>\n",
              "      <td>0.000000</td>\n",
              "      <td>0.000000</td>\n",
              "      <td>0.000000</td>\n",
              "      <td>0.000000</td>\n",
              "      <td>0.219195</td>\n",
              "      <td>0.000000</td>\n",
              "      <td>1.000000</td>\n",
              "      <td>2.000000</td>\n",
              "      <td>2.000000</td>\n",
              "      <td>2.000000</td>\n",
              "      <td>0.000000</td>\n",
              "      <td>0.000000</td>\n",
              "    </tr>\n",
              "    <tr>\n",
              "      <th>25%</th>\n",
              "      <td>18.000000</td>\n",
              "      <td>3.000000</td>\n",
              "      <td>0.000000</td>\n",
              "      <td>10.000000</td>\n",
              "      <td>0.000000</td>\n",
              "      <td>2.054029</td>\n",
              "      <td>2.000000</td>\n",
              "      <td>3.000000</td>\n",
              "      <td>7.000000</td>\n",
              "      <td>3.166667</td>\n",
              "      <td>11.000000</td>\n",
              "      <td>1.000000</td>\n",
              "      <td>0.000000</td>\n",
              "    </tr>\n",
              "    <tr>\n",
              "      <th>50%</th>\n",
              "      <td>24.000000</td>\n",
              "      <td>7.000000</td>\n",
              "      <td>0.000000</td>\n",
              "      <td>10.000000</td>\n",
              "      <td>8.000000</td>\n",
              "      <td>2.570417</td>\n",
              "      <td>6.000000</td>\n",
              "      <td>6.000000</td>\n",
              "      <td>7.000000</td>\n",
              "      <td>3.666667</td>\n",
              "      <td>12.000000</td>\n",
              "      <td>1.000000</td>\n",
              "      <td>1.000000</td>\n",
              "    </tr>\n",
              "    <tr>\n",
              "      <th>75%</th>\n",
              "      <td>27.000000</td>\n",
              "      <td>10.000000</td>\n",
              "      <td>0.000000</td>\n",
              "      <td>10.000000</td>\n",
              "      <td>10.000000</td>\n",
              "      <td>2.767195</td>\n",
              "      <td>6.000000</td>\n",
              "      <td>6.000000</td>\n",
              "      <td>7.000000</td>\n",
              "      <td>4.000000</td>\n",
              "      <td>14.000000</td>\n",
              "      <td>1.000000</td>\n",
              "      <td>1.000000</td>\n",
              "    </tr>\n",
              "    <tr>\n",
              "      <th>max</th>\n",
              "      <td>36.000000</td>\n",
              "      <td>23.000000</td>\n",
              "      <td>32.000000</td>\n",
              "      <td>34.000000</td>\n",
              "      <td>12.000000</td>\n",
              "      <td>4.216847</td>\n",
              "      <td>7.000000</td>\n",
              "      <td>7.000000</td>\n",
              "      <td>32.000000</td>\n",
              "      <td>32.000000</td>\n",
              "      <td>33.000000</td>\n",
              "      <td>1.000000</td>\n",
              "      <td>1.000000</td>\n",
              "    </tr>\n",
              "  </tbody>\n",
              "</table>\n",
              "</div>\n",
              "      <button class=\"colab-df-convert\" onclick=\"convertToInteractive('df-bc8e8801-fa55-47a8-bef4-72db7b8656ae')\"\n",
              "              title=\"Convert this dataframe to an interactive table.\"\n",
              "              style=\"display:none;\">\n",
              "        \n",
              "  <svg xmlns=\"http://www.w3.org/2000/svg\" height=\"24px\"viewBox=\"0 0 24 24\"\n",
              "       width=\"24px\">\n",
              "    <path d=\"M0 0h24v24H0V0z\" fill=\"none\"/>\n",
              "    <path d=\"M18.56 5.44l.94 2.06.94-2.06 2.06-.94-2.06-.94-.94-2.06-.94 2.06-2.06.94zm-11 1L8.5 8.5l.94-2.06 2.06-.94-2.06-.94L8.5 2.5l-.94 2.06-2.06.94zm10 10l.94 2.06.94-2.06 2.06-.94-2.06-.94-.94-2.06-.94 2.06-2.06.94z\"/><path d=\"M17.41 7.96l-1.37-1.37c-.4-.4-.92-.59-1.43-.59-.52 0-1.04.2-1.43.59L10.3 9.45l-7.72 7.72c-.78.78-.78 2.05 0 2.83L4 21.41c.39.39.9.59 1.41.59.51 0 1.02-.2 1.41-.59l7.78-7.78 2.81-2.81c.8-.78.8-2.07 0-2.86zM5.41 20L4 18.59l7.72-7.72 1.47 1.35L5.41 20z\"/>\n",
              "  </svg>\n",
              "      </button>\n",
              "      \n",
              "  <style>\n",
              "    .colab-df-container {\n",
              "      display:flex;\n",
              "      flex-wrap:wrap;\n",
              "      gap: 12px;\n",
              "    }\n",
              "\n",
              "    .colab-df-convert {\n",
              "      background-color: #E8F0FE;\n",
              "      border: none;\n",
              "      border-radius: 50%;\n",
              "      cursor: pointer;\n",
              "      display: none;\n",
              "      fill: #1967D2;\n",
              "      height: 32px;\n",
              "      padding: 0 0 0 0;\n",
              "      width: 32px;\n",
              "    }\n",
              "\n",
              "    .colab-df-convert:hover {\n",
              "      background-color: #E2EBFA;\n",
              "      box-shadow: 0px 1px 2px rgba(60, 64, 67, 0.3), 0px 1px 3px 1px rgba(60, 64, 67, 0.15);\n",
              "      fill: #174EA6;\n",
              "    }\n",
              "\n",
              "    [theme=dark] .colab-df-convert {\n",
              "      background-color: #3B4455;\n",
              "      fill: #D2E3FC;\n",
              "    }\n",
              "\n",
              "    [theme=dark] .colab-df-convert:hover {\n",
              "      background-color: #434B5C;\n",
              "      box-shadow: 0px 1px 3px 1px rgba(0, 0, 0, 0.15);\n",
              "      filter: drop-shadow(0px 1px 2px rgba(0, 0, 0, 0.3));\n",
              "      fill: #FFFFFF;\n",
              "    }\n",
              "  </style>\n",
              "\n",
              "      <script>\n",
              "        const buttonEl =\n",
              "          document.querySelector('#df-bc8e8801-fa55-47a8-bef4-72db7b8656ae button.colab-df-convert');\n",
              "        buttonEl.style.display =\n",
              "          google.colab.kernel.accessAllowed ? 'block' : 'none';\n",
              "\n",
              "        async function convertToInteractive(key) {\n",
              "          const element = document.querySelector('#df-bc8e8801-fa55-47a8-bef4-72db7b8656ae');\n",
              "          const dataTable =\n",
              "            await google.colab.kernel.invokeFunction('convertToInteractive',\n",
              "                                                     [key], {});\n",
              "          if (!dataTable) return;\n",
              "\n",
              "          const docLinkHtml = 'Like what you see? Visit the ' +\n",
              "            '<a target=\"_blank\" href=https://colab.research.google.com/notebooks/data_table.ipynb>data table notebook</a>'\n",
              "            + ' to learn more about interactive tables.';\n",
              "          element.innerHTML = '';\n",
              "          dataTable['output_type'] = 'display_data';\n",
              "          await google.colab.output.renderOutput(dataTable, element);\n",
              "          const docLink = document.createElement('div');\n",
              "          docLink.innerHTML = docLinkHtml;\n",
              "          element.appendChild(docLink);\n",
              "        }\n",
              "      </script>\n",
              "    </div>\n",
              "  </div>\n",
              "  "
            ]
          },
          "metadata": {},
          "execution_count": 3
        }
      ],
      "source": [
        "df.info()\n",
        "\n",
        "print('\\n')\n",
        "df.describe()"
      ]
    },
    {
      "cell_type": "code",
      "source": [
        "df.head()"
      ],
      "metadata": {
        "id": "y8CZEyj4u-pi",
        "colab": {
          "base_uri": "https://localhost:8080/",
          "height": 206
        },
        "outputId": "dfa31112-08f7-4a2a-f6b1-088341b6aed7"
      },
      "execution_count": 4,
      "outputs": [
        {
          "output_type": "execute_result",
          "data": {
            "text/plain": [
              "  timestamp  FQDN_count  subdomain_length  upper  lower  numeric   entropy  \\\n",
              "0   56:19.8          27                10      0     10       11  2.570417   \n",
              "1   07:23.9          27                10      0     10       11  2.767195   \n",
              "2   23:15.1          26                 9      0     10       10  2.742338   \n",
              "3   04:51.9          27                10      0     10       11  2.570417   \n",
              "4   12:44.0          15                 9      0     11        0  2.929439   \n",
              "\n",
              "   special  labels  labels_max  labels_average longest_word    sld  len  \\\n",
              "0        6       6           7        3.666667            2    192   14   \n",
              "1        6       6           7        3.666667            2    192   14   \n",
              "2        6       6           7        3.500000            2    192   13   \n",
              "3        6       6           7        3.666667            2    192   14   \n",
              "4        4       3           5        4.333333        local  local   15   \n",
              "\n",
              "   subdomain  Target Attack  \n",
              "0          1              1  \n",
              "1          1              1  \n",
              "2          1              0  \n",
              "3          1              1  \n",
              "4          1              1  "
            ],
            "text/html": [
              "\n",
              "  <div id=\"df-d36a6dd3-6ed3-4c6a-b66b-cd582cd618cd\">\n",
              "    <div class=\"colab-df-container\">\n",
              "      <div>\n",
              "<style scoped>\n",
              "    .dataframe tbody tr th:only-of-type {\n",
              "        vertical-align: middle;\n",
              "    }\n",
              "\n",
              "    .dataframe tbody tr th {\n",
              "        vertical-align: top;\n",
              "    }\n",
              "\n",
              "    .dataframe thead th {\n",
              "        text-align: right;\n",
              "    }\n",
              "</style>\n",
              "<table border=\"1\" class=\"dataframe\">\n",
              "  <thead>\n",
              "    <tr style=\"text-align: right;\">\n",
              "      <th></th>\n",
              "      <th>timestamp</th>\n",
              "      <th>FQDN_count</th>\n",
              "      <th>subdomain_length</th>\n",
              "      <th>upper</th>\n",
              "      <th>lower</th>\n",
              "      <th>numeric</th>\n",
              "      <th>entropy</th>\n",
              "      <th>special</th>\n",
              "      <th>labels</th>\n",
              "      <th>labels_max</th>\n",
              "      <th>labels_average</th>\n",
              "      <th>longest_word</th>\n",
              "      <th>sld</th>\n",
              "      <th>len</th>\n",
              "      <th>subdomain</th>\n",
              "      <th>Target Attack</th>\n",
              "    </tr>\n",
              "  </thead>\n",
              "  <tbody>\n",
              "    <tr>\n",
              "      <th>0</th>\n",
              "      <td>56:19.8</td>\n",
              "      <td>27</td>\n",
              "      <td>10</td>\n",
              "      <td>0</td>\n",
              "      <td>10</td>\n",
              "      <td>11</td>\n",
              "      <td>2.570417</td>\n",
              "      <td>6</td>\n",
              "      <td>6</td>\n",
              "      <td>7</td>\n",
              "      <td>3.666667</td>\n",
              "      <td>2</td>\n",
              "      <td>192</td>\n",
              "      <td>14</td>\n",
              "      <td>1</td>\n",
              "      <td>1</td>\n",
              "    </tr>\n",
              "    <tr>\n",
              "      <th>1</th>\n",
              "      <td>07:23.9</td>\n",
              "      <td>27</td>\n",
              "      <td>10</td>\n",
              "      <td>0</td>\n",
              "      <td>10</td>\n",
              "      <td>11</td>\n",
              "      <td>2.767195</td>\n",
              "      <td>6</td>\n",
              "      <td>6</td>\n",
              "      <td>7</td>\n",
              "      <td>3.666667</td>\n",
              "      <td>2</td>\n",
              "      <td>192</td>\n",
              "      <td>14</td>\n",
              "      <td>1</td>\n",
              "      <td>1</td>\n",
              "    </tr>\n",
              "    <tr>\n",
              "      <th>2</th>\n",
              "      <td>23:15.1</td>\n",
              "      <td>26</td>\n",
              "      <td>9</td>\n",
              "      <td>0</td>\n",
              "      <td>10</td>\n",
              "      <td>10</td>\n",
              "      <td>2.742338</td>\n",
              "      <td>6</td>\n",
              "      <td>6</td>\n",
              "      <td>7</td>\n",
              "      <td>3.500000</td>\n",
              "      <td>2</td>\n",
              "      <td>192</td>\n",
              "      <td>13</td>\n",
              "      <td>1</td>\n",
              "      <td>0</td>\n",
              "    </tr>\n",
              "    <tr>\n",
              "      <th>3</th>\n",
              "      <td>04:51.9</td>\n",
              "      <td>27</td>\n",
              "      <td>10</td>\n",
              "      <td>0</td>\n",
              "      <td>10</td>\n",
              "      <td>11</td>\n",
              "      <td>2.570417</td>\n",
              "      <td>6</td>\n",
              "      <td>6</td>\n",
              "      <td>7</td>\n",
              "      <td>3.666667</td>\n",
              "      <td>2</td>\n",
              "      <td>192</td>\n",
              "      <td>14</td>\n",
              "      <td>1</td>\n",
              "      <td>1</td>\n",
              "    </tr>\n",
              "    <tr>\n",
              "      <th>4</th>\n",
              "      <td>12:44.0</td>\n",
              "      <td>15</td>\n",
              "      <td>9</td>\n",
              "      <td>0</td>\n",
              "      <td>11</td>\n",
              "      <td>0</td>\n",
              "      <td>2.929439</td>\n",
              "      <td>4</td>\n",
              "      <td>3</td>\n",
              "      <td>5</td>\n",
              "      <td>4.333333</td>\n",
              "      <td>local</td>\n",
              "      <td>local</td>\n",
              "      <td>15</td>\n",
              "      <td>1</td>\n",
              "      <td>1</td>\n",
              "    </tr>\n",
              "  </tbody>\n",
              "</table>\n",
              "</div>\n",
              "      <button class=\"colab-df-convert\" onclick=\"convertToInteractive('df-d36a6dd3-6ed3-4c6a-b66b-cd582cd618cd')\"\n",
              "              title=\"Convert this dataframe to an interactive table.\"\n",
              "              style=\"display:none;\">\n",
              "        \n",
              "  <svg xmlns=\"http://www.w3.org/2000/svg\" height=\"24px\"viewBox=\"0 0 24 24\"\n",
              "       width=\"24px\">\n",
              "    <path d=\"M0 0h24v24H0V0z\" fill=\"none\"/>\n",
              "    <path d=\"M18.56 5.44l.94 2.06.94-2.06 2.06-.94-2.06-.94-.94-2.06-.94 2.06-2.06.94zm-11 1L8.5 8.5l.94-2.06 2.06-.94-2.06-.94L8.5 2.5l-.94 2.06-2.06.94zm10 10l.94 2.06.94-2.06 2.06-.94-2.06-.94-.94-2.06-.94 2.06-2.06.94z\"/><path d=\"M17.41 7.96l-1.37-1.37c-.4-.4-.92-.59-1.43-.59-.52 0-1.04.2-1.43.59L10.3 9.45l-7.72 7.72c-.78.78-.78 2.05 0 2.83L4 21.41c.39.39.9.59 1.41.59.51 0 1.02-.2 1.41-.59l7.78-7.78 2.81-2.81c.8-.78.8-2.07 0-2.86zM5.41 20L4 18.59l7.72-7.72 1.47 1.35L5.41 20z\"/>\n",
              "  </svg>\n",
              "      </button>\n",
              "      \n",
              "  <style>\n",
              "    .colab-df-container {\n",
              "      display:flex;\n",
              "      flex-wrap:wrap;\n",
              "      gap: 12px;\n",
              "    }\n",
              "\n",
              "    .colab-df-convert {\n",
              "      background-color: #E8F0FE;\n",
              "      border: none;\n",
              "      border-radius: 50%;\n",
              "      cursor: pointer;\n",
              "      display: none;\n",
              "      fill: #1967D2;\n",
              "      height: 32px;\n",
              "      padding: 0 0 0 0;\n",
              "      width: 32px;\n",
              "    }\n",
              "\n",
              "    .colab-df-convert:hover {\n",
              "      background-color: #E2EBFA;\n",
              "      box-shadow: 0px 1px 2px rgba(60, 64, 67, 0.3), 0px 1px 3px 1px rgba(60, 64, 67, 0.15);\n",
              "      fill: #174EA6;\n",
              "    }\n",
              "\n",
              "    [theme=dark] .colab-df-convert {\n",
              "      background-color: #3B4455;\n",
              "      fill: #D2E3FC;\n",
              "    }\n",
              "\n",
              "    [theme=dark] .colab-df-convert:hover {\n",
              "      background-color: #434B5C;\n",
              "      box-shadow: 0px 1px 3px 1px rgba(0, 0, 0, 0.15);\n",
              "      filter: drop-shadow(0px 1px 2px rgba(0, 0, 0, 0.3));\n",
              "      fill: #FFFFFF;\n",
              "    }\n",
              "  </style>\n",
              "\n",
              "      <script>\n",
              "        const buttonEl =\n",
              "          document.querySelector('#df-d36a6dd3-6ed3-4c6a-b66b-cd582cd618cd button.colab-df-convert');\n",
              "        buttonEl.style.display =\n",
              "          google.colab.kernel.accessAllowed ? 'block' : 'none';\n",
              "\n",
              "        async function convertToInteractive(key) {\n",
              "          const element = document.querySelector('#df-d36a6dd3-6ed3-4c6a-b66b-cd582cd618cd');\n",
              "          const dataTable =\n",
              "            await google.colab.kernel.invokeFunction('convertToInteractive',\n",
              "                                                     [key], {});\n",
              "          if (!dataTable) return;\n",
              "\n",
              "          const docLinkHtml = 'Like what you see? Visit the ' +\n",
              "            '<a target=\"_blank\" href=https://colab.research.google.com/notebooks/data_table.ipynb>data table notebook</a>'\n",
              "            + ' to learn more about interactive tables.';\n",
              "          element.innerHTML = '';\n",
              "          dataTable['output_type'] = 'display_data';\n",
              "          await google.colab.output.renderOutput(dataTable, element);\n",
              "          const docLink = document.createElement('div');\n",
              "          docLink.innerHTML = docLinkHtml;\n",
              "          element.appendChild(docLink);\n",
              "        }\n",
              "      </script>\n",
              "    </div>\n",
              "  </div>\n",
              "  "
            ]
          },
          "metadata": {},
          "execution_count": 4
        }
      ]
    },
    {
      "cell_type": "code",
      "source": [
        "df.isnull().sum()"
      ],
      "metadata": {
        "id": "Qzby5zj1uhLq",
        "colab": {
          "base_uri": "https://localhost:8080/"
        },
        "outputId": "5c6bc2ec-bca1-400f-c0fc-738f782095cf"
      },
      "execution_count": 5,
      "outputs": [
        {
          "output_type": "execute_result",
          "data": {
            "text/plain": [
              "timestamp           0\n",
              "FQDN_count          0\n",
              "subdomain_length    0\n",
              "upper               0\n",
              "lower               0\n",
              "numeric             0\n",
              "entropy             0\n",
              "special             0\n",
              "labels              0\n",
              "labels_max          0\n",
              "labels_average      0\n",
              "longest_word        8\n",
              "sld                 0\n",
              "len                 0\n",
              "subdomain           0\n",
              "Target Attack       0\n",
              "dtype: int64"
            ]
          },
          "metadata": {},
          "execution_count": 5
        }
      ]
    },
    {
      "cell_type": "code",
      "source": [
        "fdf = df.drop('timestamp', axis=1)\n",
        "\n",
        "fdf.info()"
      ],
      "metadata": {
        "id": "g-0ov6Ik71hE",
        "colab": {
          "base_uri": "https://localhost:8080/"
        },
        "outputId": "5a6ddbf2-c1ef-4e16-f2c3-57955fa85e9f"
      },
      "execution_count": 6,
      "outputs": [
        {
          "output_type": "stream",
          "name": "stdout",
          "text": [
            "<class 'pandas.core.frame.DataFrame'>\n",
            "RangeIndex: 268074 entries, 0 to 268073\n",
            "Data columns (total 15 columns):\n",
            " #   Column            Non-Null Count   Dtype  \n",
            "---  ------            --------------   -----  \n",
            " 0   FQDN_count        268074 non-null  int64  \n",
            " 1   subdomain_length  268074 non-null  int64  \n",
            " 2   upper             268074 non-null  int64  \n",
            " 3   lower             268074 non-null  int64  \n",
            " 4   numeric           268074 non-null  int64  \n",
            " 5   entropy           268074 non-null  float64\n",
            " 6   special           268074 non-null  int64  \n",
            " 7   labels            268074 non-null  int64  \n",
            " 8   labels_max        268074 non-null  int64  \n",
            " 9   labels_average    268074 non-null  float64\n",
            " 10  longest_word      268066 non-null  object \n",
            " 11  sld               268074 non-null  object \n",
            " 12  len               268074 non-null  int64  \n",
            " 13  subdomain         268074 non-null  int64  \n",
            " 14  Target Attack     268074 non-null  int64  \n",
            "dtypes: float64(2), int64(11), object(2)\n",
            "memory usage: 30.7+ MB\n"
          ]
        }
      ]
    },
    {
      "cell_type": "code",
      "source": [
        "print('No Attack', round(fdf['Target Attack'].value_counts()[0]/len(df)* 100,2), '% of the dataset')\n",
        "print('Attack', round(fdf['Target Attack'].value_counts()[1]/len(df) * 100,2), '% of the dataset')\n"
      ],
      "metadata": {
        "id": "9aUkXU9fwWeD",
        "colab": {
          "base_uri": "https://localhost:8080/"
        },
        "outputId": "dbd30c84-1978-4bce-fbd5-67c9d662d93b"
      },
      "execution_count": 7,
      "outputs": [
        {
          "output_type": "stream",
          "name": "stdout",
          "text": [
            "No Attack 45.1 % of the dataset\n",
            "Attack 54.9 % of the dataset\n"
          ]
        }
      ]
    },
    {
      "cell_type": "code",
      "source": [
        "import matplotlib.pyplot as plt\n",
        "import seaborn as sns\n",
        "\n",
        "sns.countplot(x='Target Attack', data=fdf)\n",
        "plt.title('Class Distributions \\n (0: No Attack || 1: Attack)')"
      ],
      "metadata": {
        "id": "o146WQKJzv5W",
        "colab": {
          "base_uri": "https://localhost:8080/",
          "height": 510
        },
        "outputId": "269e38f9-eb55-4aac-ccaa-01a9d7118523"
      },
      "execution_count": 8,
      "outputs": [
        {
          "output_type": "execute_result",
          "data": {
            "text/plain": [
              "Text(0.5, 1.0, 'Class Distributions \\n (0: No Attack || 1: Attack)')"
            ]
          },
          "metadata": {},
          "execution_count": 8
        },
        {
          "output_type": "display_data",
          "data": {
            "text/plain": [
              "<Figure size 640x480 with 1 Axes>"
            ],
            "image/png": "[encoded data removed]"
          },
          "metadata": {}
        }
      ]
    },
    {
      "cell_type": "code",
      "source": [
        "import numpy as np\n",
        "\n",
        "FQDN = fdf['FQDN_count'].values\n",
        "\n",
        "sns.histplot(FQDN)\n",
        "plt.title('Distribution of FQDN')\n",
        "plt.xlim([min(FQDN), max(FQDN)])"
      ],
      "metadata": {
        "id": "nxbJrmHF1BPM",
        "colab": {
          "base_uri": "https://localhost:8080/",
          "height": 469
        },
        "outputId": "8107a6cc-67e9-47b2-91d7-2926bb4a80ba"
      },
      "execution_count": 9,
      "outputs": [
        {
          "output_type": "execute_result",
          "data": {
            "text/plain": [
              "(2.0, 36.0)"
            ]
          },
          "metadata": {},
          "execution_count": 9
        },
        {
          "output_type": "display_data",
          "data": {
            "text/plain": [
              "<Figure size 640x480 with 1 Axes>"
            ],
            "image/png": "[encoded data removed]"
          },
          "metadata": {}
        }
      ]
    },
    {
      "cell_type": "code",
      "source": [
        "categorical_columns = fdf.select_dtypes(include=['object']).columns.tolist()\n",
        "\n",
        "print('categorical_columns:', categorical_columns, '\\n')\n",
        "\n",
        "numerical_columns = fdf.select_dtypes(include=['int64', 'float64']).columns.tolist()\n",
        "\n",
        "print('numerical_columns:', numerical_columns)"
      ],
      "metadata": {
        "id": "fjS6UnHEvI91",
        "colab": {
          "base_uri": "https://localhost:8080/"
        },
        "outputId": "fe92723a-ebeb-45c8-827f-932a8435fb73"
      },
      "execution_count": 10,
      "outputs": [
        {
          "output_type": "stream",
          "name": "stdout",
          "text": [
            "categorical_columns: ['longest_word', 'sld'] \n",
            "\n",
            "numerical_columns: ['FQDN_count', 'subdomain_length', 'upper', 'lower', 'numeric', 'entropy', 'special', 'labels', 'labels_max', 'labels_average', 'len', 'subdomain', 'Target Attack']\n"
          ]
        }
      ]
    },
    {
      "cell_type": "code",
      "source": [
        "fdf[numerical_columns].hist(bins=15, figsize=(22, 8), layout=(3,6));\n",
        "#Histogram show dist of numeric feat"
      ],
      "metadata": {
        "colab": {
          "base_uri": "https://localhost:8080/",
          "height": 555
        },
        "id": "i9qlUNH_rrd4",
        "outputId": "62b3a7e4-70b9-4de1-82de-59ed84d34783"
      },
      "execution_count": 11,
      "outputs": [
        {
          "output_type": "display_data",
          "data": {
            "text/plain": [
              "<Figure size 2200x800 with 18 Axes>"
            ],
            "image/png": "[encoded data removed]"
          },
          "metadata": {}
        }
      ]
    },
    {
      "cell_type": "code",
      "source": [
        "from sklearn.model_selection import train_test_split\n",
        "\n",
        "#remove target from list\n",
        "numerical_list = ['FQDN_count', 'subdomain_length', 'upper', 'lower', 'numeric', 'entropy', 'special', 'labels', 'labels_max', 'labels_average', 'len', 'subdomain']\n",
        "\n",
        "X = fdf[numerical_list + categorical_columns] #features\n",
        "y = fdf['Target Attack'] #label\n",
        "\n",
        "X_train, X_test, y_train, y_test = train_test_split(X, y, test_size=0.2,  random_state=42)"
      ],
      "metadata": {
        "id": "xUnZbHfHj6Vf"
      },
      "execution_count": 12,
      "outputs": []
    },
    {
      "cell_type": "code",
      "source": [
        "print(y_test.value_counts(normalize=True))\n",
        "print('\\n')\n",
        "print(X_train.value_counts(normalize=True))\n",
        "print('\\n')\n",
        "\n",
        "print(y_train.value_counts(normalize=True))\n",
        "print('\\n')\n",
        "\n",
        "print(X_test.value_counts(normalize=True))\n",
        "#X.info()\n",
        "#print('\\n')\n",
        "#y.info()"
      ],
      "metadata": {
        "id": "LhywF0hEil3A",
        "colab": {
          "base_uri": "https://localhost:8080/"
        },
        "outputId": "af1acb66-e3a0-47d2-9bc3-33b737f3cf40"
      },
      "execution_count": 13,
      "outputs": [
        {
          "output_type": "stream",
          "name": "stdout",
          "text": [
            "1    0.550201\n",
            "0    0.449799\n",
            "Name: Target Attack, dtype: float64\n",
            "\n",
            "\n",
            "FQDN_count  subdomain_length  upper  lower  numeric  entropy   special  labels  labels_max  labels_average  len  subdomain  longest_word  sld         \n",
            "24          7                 0      10     8        2.054029  6        6       7           3.166667        11   1          4             224             0.261742\n",
            "27          10                0      10     11       2.570417  6        6       7           3.666667        14   1          2             192             0.147110\n",
            "                                                     2.767195  6        6       7           3.666667        14   1          2             192             0.087204\n",
            "26          9                 0      10     10       2.742338  6        6       7           3.500000        13   1          2             192             0.080591\n",
            "25          8                 0      10     9        2.556642  6        6       7           3.333333        12   1          2             192             0.056232\n",
            "                                                                                                                                                            ...   \n",
            "20          3                 0      17     0        2.875000  3        3       12          6.000000        16   1          top           top-password    0.000005\n",
            "                                                     2.767195  3        4       10          4.250000        14   1          honest        honestjohn      0.000005\n",
            "13          3                 0      11     0        1.706600  2        3       5           3.666667        9    1          map           wamap           0.000005\n",
            "                                                     1.844946  2        3       5           3.666667        9    1          saas          saasu           0.000005\n",
            "14          3                 0      11     0        1.727035  3        4       3           2.750000        7    1          fc            fca             0.000005\n",
            "Length: 15649, dtype: float64\n",
            "\n",
            "\n",
            "1    0.54873\n",
            "0    0.45127\n",
            "Name: Target Attack, dtype: float64\n",
            "\n",
            "\n",
            "FQDN_count  subdomain_length  upper  lower  numeric  entropy   special  labels  labels_max  labels_average  len  subdomain  longest_word  sld                             \n",
            "24          7                 0      10     8        2.054029  6        6       7           3.166667        11   1          4             224                                 0.262189\n",
            "27          10                0      10     11       2.570417  6        6       7           3.666667        14   1          2             192                                 0.148170\n",
            "                                                     2.767195  6        6       7           3.666667        14   1          2             192                                 0.084959\n",
            "26          9                 0      10     10       2.742338  6        6       7           3.500000        13   1          2             192                                 0.081378\n",
            "25          8                 0      10     9        2.556642  6        6       7           3.333333        12   1          2             192                                 0.056851\n",
            "                                                                                                                                                                                ...   \n",
            "15          0                 0      13     0        2.889975  2        2       11          7.000000        12   0          web           web-explore                         0.000019\n",
            "                                                                                                                            tu            tu-tvgratis                         0.000019\n",
            "                                                                                                                            karma         karma-bagsh                         0.000019\n",
            "                                                                                                                            jo            joq-albania                         0.000019\n",
            "36          0                 0      23     10       3.827309  3        2       32          17.500000       33   0          xn            xn--n8j6d3gwb3bwb2rrc6dv922bld8b    0.000019\n",
            "Length: 9564, dtype: float64\n"
          ]
        }
      ]
    },
    {
      "cell_type": "code",
      "source": [
        "#from sklearn import preprocessing\n",
        "#pipeline\n",
        "\n",
        "from sklearn.ensemble import RandomForestClassifier\n",
        "from sklearn.preprocessing import OrdinalEncoder\n",
        "from sklearn.impute import SimpleImputer\n",
        "from sklearn.compose import ColumnTransformer\n",
        "from sklearn.pipeline import Pipeline\n",
        "\n",
        "categorical_encoder = OrdinalEncoder(\n",
        "    handle_unknown=\"use_encoded_value\",\n",
        "    unknown_value=-1,\n",
        "    encoded_missing_value=-1\n",
        ")\n",
        "\n",
        "numerical_pipe = SimpleImputer(strategy=\"mean\")\n",
        "\n",
        "preprocessing = ColumnTransformer(\n",
        "    [\n",
        "        (\"cat\", categorical_encoder, categorical_columns),\n",
        "        (\"num\", numerical_pipe, numerical_list),\n",
        "    ],\n",
        "    verbose_feature_names_out=False\n",
        ")\n",
        "\n",
        "rf = Pipeline(\n",
        "    [\n",
        "        (\"preprocess\", preprocessing),\n",
        "        (\"classifier\", RandomForestClassifier(random_state=42)),\n",
        "    ]\n",
        ")\n",
        "\n",
        "rf.fit(X_train, y_train)\n"
      ],
      "metadata": {
        "id": "L6j7vvzM2zpo",
        "colab": {
          "base_uri": "https://localhost:8080/",
          "height": 191
        },
        "outputId": "d7c6827a-441c-4ad0-e6bb-a4091a9d072a"
      },
      "execution_count": 14,
      "outputs": [
        {
          "output_type": "execute_result",
          "data": {
            "text/plain": [
              "Pipeline(steps=[('preprocess',\n",
              "                 ColumnTransformer(transformers=[('cat',\n",
              "                                                  OrdinalEncoder(encoded_missing_value=-1,\n",
              "                                                                 handle_unknown='use_encoded_value',\n",
              "                                                                 unknown_value=-1),\n",
              "                                                  ['longest_word', 'sld']),\n",
              "                                                 ('num', SimpleImputer(),\n",
              "                                                  ['FQDN_count',\n",
              "                                                   'subdomain_length', 'upper',\n",
              "                                                   'lower', 'numeric',\n",
              "                                                   'entropy', 'special',\n",
              "                                                   'labels', 'labels_max',\n",
              "                                                   'labels_average', 'len',\n",
              "                                                   'subdomain'])],\n",
              "                                   verbose_feature_names_out=False)),\n",
              "                ('classifier', RandomForestClassifier(random_state=42))])"
            ],
            "text/html": [
              "<style>#sk-container-id-1 {color: black;background-color: white;}#sk-container-id-1 pre{padding: 0;}#sk-container-id-1 div.sk-toggleable {background-color: white;}#sk-container-id-1 label.sk-toggleable__label {cursor: pointer;display: block;width: 100%;margin-bottom: 0;padding: 0.3em;box-sizing: border-box;text-align: center;}#sk-container-id-1 label.sk-toggleable__label-arrow:before {content: \"▸\";float: left;margin-right: 0.25em;color: #696969;}#sk-container-id-1 label.sk-toggleable__label-arrow:hover:before {color: black;}#sk-container-id-1 div.sk-estimator:hover label.sk-toggleable__label-arrow:before {color: black;}#sk-container-id-1 div.sk-toggleable__content {max-height: 0;max-width: 0;overflow: hidden;text-align: left;background-color: #f0f8ff;}#sk-container-id-1 div.sk-toggleable__content pre {margin: 0.2em;color: black;border-radius: 0.25em;background-color: #f0f8ff;}#sk-container-id-1 input.sk-toggleable__control:checked~div.sk-toggleable__content {max-height: 200px;max-width: 100%;overflow: auto;}#sk-container-id-1 input.sk-toggleable__control:checked~label.sk-toggleable__label-arrow:before {content: \"▾\";}#sk-container-id-1 div.sk-estimator input.sk-toggleable__control:checked~label.sk-toggleable__label {background-color: #d4ebff;}#sk-container-id-1 div.sk-label input.sk-toggleable__control:checked~label.sk-toggleable__label {background-color: #d4ebff;}#sk-container-id-1 input.sk-hidden--visually {border: 0;clip: rect(1px 1px 1px 1px);clip: rect(1px, 1px, 1px, 1px);height: 1px;margin: -1px;overflow: hidden;padding: 0;position: absolute;width: 1px;}#sk-container-id-1 div.sk-estimator {font-family: monospace;background-color: #f0f8ff;border: 1px dotted black;border-radius: 0.25em;box-sizing: border-box;margin-bottom: 0.5em;}#sk-container-id-1 div.sk-estimator:hover {background-color: #d4ebff;}#sk-container-id-1 div.sk-parallel-item::after {content: \"\";width: 100%;border-bottom: 1px solid gray;flex-grow: 1;}#sk-container-id-1 div.sk-label:hover label.sk-toggleable__label {background-color: #d4ebff;}#sk-container-id-1 div.sk-serial::before {content: \"\";position: absolute;border-left: 1px solid gray;box-sizing: border-box;top: 0;bottom: 0;left: 50%;z-index: 0;}#sk-container-id-1 div.sk-serial {display: flex;flex-direction: column;align-items: center;background-color: white;padding-right: 0.2em;padding-left: 0.2em;position: relative;}#sk-container-id-1 div.sk-item {position: relative;z-index: 1;}#sk-container-id-1 div.sk-parallel {display: flex;align-items: stretch;justify-content: center;background-color: white;position: relative;}#sk-container-id-1 div.sk-item::before, #sk-container-id-1 div.sk-parallel-item::before {content: \"\";position: absolute;border-left: 1px solid gray;box-sizing: border-box;top: 0;bottom: 0;left: 50%;z-index: -1;}#sk-container-id-1 div.sk-parallel-item {display: flex;flex-direction: column;z-index: 1;position: relative;background-color: white;}#sk-container-id-1 div.sk-parallel-item:first-child::after {align-self: flex-end;width: 50%;}#sk-container-id-1 div.sk-parallel-item:last-child::after {align-self: flex-start;width: 50%;}#sk-container-id-1 div.sk-parallel-item:only-child::after {width: 0;}#sk-container-id-1 div.sk-dashed-wrapped {border: 1px dashed gray;margin: 0 0.4em 0.5em 0.4em;box-sizing: border-box;padding-bottom: 0.4em;background-color: white;}#sk-container-id-1 div.sk-label label {font-family: monospace;font-weight: bold;display: inline-block;line-height: 1.2em;}#sk-container-id-1 div.sk-label-container {text-align: center;}#sk-container-id-1 div.sk-container {/* jupyter's `normalize.less` sets `[hidden] { display: none; }` but bootstrap.min.css set `[hidden] { display: none !important; }` so we also need the `!important` here to be able to override the default hidden behavior on the sphinx rendered scikit-learn.org. See: https://github.com/scikit-learn/scikit-learn/issues/21755 */display: inline-block !important;position: relative;}#sk-container-id-1 div.sk-text-repr-fallback {display: none;}</style><div id=\"sk-container-id-1\" class=\"sk-top-container\"><div class=\"sk-text-repr-fallback\"><pre>Pipeline(steps=[(&#x27;preprocess&#x27;,\n",
              "                 ColumnTransformer(transformers=[(&#x27;cat&#x27;,\n",
              "                                                  OrdinalEncoder(encoded_missing_value=-1,\n",
              "                                                                 handle_unknown=&#x27;use_encoded_value&#x27;,\n",
              "                                                                 unknown_value=-1),\n",
              "                                                  [&#x27;longest_word&#x27;, &#x27;sld&#x27;]),\n",
              "                                                 (&#x27;num&#x27;, SimpleImputer(),\n",
              "                                                  [&#x27;FQDN_count&#x27;,\n",
              "                                                   &#x27;subdomain_length&#x27;, &#x27;upper&#x27;,\n",
              "                                                   &#x27;lower&#x27;, &#x27;numeric&#x27;,\n",
              "                                                   &#x27;entropy&#x27;, &#x27;special&#x27;,\n",
              "                                                   &#x27;labels&#x27;, &#x27;labels_max&#x27;,\n",
              "                                                   &#x27;labels_average&#x27;, &#x27;len&#x27;,\n",
              "                                                   &#x27;subdomain&#x27;])],\n",
              "                                   verbose_feature_names_out=False)),\n",
              "                (&#x27;classifier&#x27;, RandomForestClassifier(random_state=42))])</pre><b>In a Jupyter environment, please rerun this cell to show the HTML representation or trust the notebook. <br />On GitHub, the HTML representation is unable to render, please try loading this page with nbviewer.org.</b></div><div class=\"sk-container\" hidden><div class=\"sk-item sk-dashed-wrapped\"><div class=\"sk-label-container\"><div class=\"sk-label sk-toggleable\"><input class=\"sk-toggleable__control sk-hidden--visually\" id=\"sk-estimator-id-1\" type=\"checkbox\" ><label for=\"sk-estimator-id-1\" class=\"sk-toggleable__label sk-toggleable__label-arrow\">Pipeline</label><div class=\"sk-toggleable__content\"><pre>Pipeline(steps=[(&#x27;preprocess&#x27;,\n",
              "                 ColumnTransformer(transformers=[(&#x27;cat&#x27;,\n",
              "                                                  OrdinalEncoder(encoded_missing_value=-1,\n",
              "                                                                 handle_unknown=&#x27;use_encoded_value&#x27;,\n",
              "                                                                 unknown_value=-1),\n",
              "                                                  [&#x27;longest_word&#x27;, &#x27;sld&#x27;]),\n",
              "                                                 (&#x27;num&#x27;, SimpleImputer(),\n",
              "                                                  [&#x27;FQDN_count&#x27;,\n",
              "                                                   &#x27;subdomain_length&#x27;, &#x27;upper&#x27;,\n",
              "                                                   &#x27;lower&#x27;, &#x27;numeric&#x27;,\n",
              "                                                   &#x27;entropy&#x27;, &#x27;special&#x27;,\n",
              "                                                   &#x27;labels&#x27;, &#x27;labels_max&#x27;,\n",
              "                                                   &#x27;labels_average&#x27;, &#x27;len&#x27;,\n",
              "                                                   &#x27;subdomain&#x27;])],\n",
              "                                   verbose_feature_names_out=False)),\n",
              "                (&#x27;classifier&#x27;, RandomForestClassifier(random_state=42))])</pre></div></div></div><div class=\"sk-serial\"><div class=\"sk-item sk-dashed-wrapped\"><div class=\"sk-label-container\"><div class=\"sk-label sk-toggleable\"><input class=\"sk-toggleable__control sk-hidden--visually\" id=\"sk-estimator-id-2\" type=\"checkbox\" ><label for=\"sk-estimator-id-2\" class=\"sk-toggleable__label sk-toggleable__label-arrow\">preprocess: ColumnTransformer</label><div class=\"sk-toggleable__content\"><pre>ColumnTransformer(transformers=[(&#x27;cat&#x27;,\n",
              "                                 OrdinalEncoder(encoded_missing_value=-1,\n",
              "                                                handle_unknown=&#x27;use_encoded_value&#x27;,\n",
              "                                                unknown_value=-1),\n",
              "                                 [&#x27;longest_word&#x27;, &#x27;sld&#x27;]),\n",
              "                                (&#x27;num&#x27;, SimpleImputer(),\n",
              "                                 [&#x27;FQDN_count&#x27;, &#x27;subdomain_length&#x27;, &#x27;upper&#x27;,\n",
              "                                  &#x27;lower&#x27;, &#x27;numeric&#x27;, &#x27;entropy&#x27;, &#x27;special&#x27;,\n",
              "                                  &#x27;labels&#x27;, &#x27;labels_max&#x27;, &#x27;labels_average&#x27;,\n",
              "                                  &#x27;len&#x27;, &#x27;subdomain&#x27;])],\n",
              "                  verbose_feature_names_out=False)</pre></div></div></div><div class=\"sk-parallel\"><div class=\"sk-parallel-item\"><div class=\"sk-item\"><div class=\"sk-label-container\"><div class=\"sk-label sk-toggleable\"><input class=\"sk-toggleable__control sk-hidden--visually\" id=\"sk-estimator-id-3\" type=\"checkbox\" ><label for=\"sk-estimator-id-3\" class=\"sk-toggleable__label sk-toggleable__label-arrow\">cat</label><div class=\"sk-toggleable__content\"><pre>[&#x27;longest_word&#x27;, &#x27;sld&#x27;]</pre></div></div></div><div class=\"sk-serial\"><div class=\"sk-item\"><div class=\"sk-estimator sk-toggleable\"><input class=\"sk-toggleable__control sk-hidden--visually\" id=\"sk-estimator-id-4\" type=\"checkbox\" ><label for=\"sk-estimator-id-4\" class=\"sk-toggleable__label sk-toggleable__label-arrow\">OrdinalEncoder</label><div class=\"sk-toggleable__content\"><pre>OrdinalEncoder(encoded_missing_value=-1, handle_unknown=&#x27;use_encoded_value&#x27;,\n",
              "               unknown_value=-1)</pre></div></div></div></div></div></div><div class=\"sk-parallel-item\"><div class=\"sk-item\"><div class=\"sk-label-container\"><div class=\"sk-label sk-toggleable\"><input class=\"sk-toggleable__control sk-hidden--visually\" id=\"sk-estimator-id-5\" type=\"checkbox\" ><label for=\"sk-estimator-id-5\" class=\"sk-toggleable__label sk-toggleable__label-arrow\">num</label><div class=\"sk-toggleable__content\"><pre>[&#x27;FQDN_count&#x27;, &#x27;subdomain_length&#x27;, &#x27;upper&#x27;, &#x27;lower&#x27;, &#x27;numeric&#x27;, &#x27;entropy&#x27;, &#x27;special&#x27;, &#x27;labels&#x27;, &#x27;labels_max&#x27;, &#x27;labels_average&#x27;, &#x27;len&#x27;, &#x27;subdomain&#x27;]</pre></div></div></div><div class=\"sk-serial\"><div class=\"sk-item\"><div class=\"sk-estimator sk-toggleable\"><input class=\"sk-toggleable__control sk-hidden--visually\" id=\"sk-estimator-id-6\" type=\"checkbox\" ><label for=\"sk-estimator-id-6\" class=\"sk-toggleable__label sk-toggleable__label-arrow\">SimpleImputer</label><div class=\"sk-toggleable__content\"><pre>SimpleImputer()</pre></div></div></div></div></div></div></div></div><div class=\"sk-item\"><div class=\"sk-estimator sk-toggleable\"><input class=\"sk-toggleable__control sk-hidden--visually\" id=\"sk-estimator-id-7\" type=\"checkbox\" ><label for=\"sk-estimator-id-7\" class=\"sk-toggleable__label sk-toggleable__label-arrow\">RandomForestClassifier</label><div class=\"sk-toggleable__content\"><pre>RandomForestClassifier(random_state=42)</pre></div></div></div></div></div></div></div>"
            ]
          },
          "metadata": {},
          "execution_count": 14
        }
      ]
    },
    {
      "cell_type": "code",
      "source": [
        "y_pred = rf.predict(X_test)"
      ],
      "metadata": {
        "id": "oxkSeAffPVAl"
      },
      "execution_count": 15,
      "outputs": []
    },
    {
      "cell_type": "code",
      "source": [
        "print(f\"Train accuray: {rf.score(X_train, y_train):.3f}\")\n",
        "print(f\"Test accuray: {rf.score(X_test, y_test):.3f}\")"
      ],
      "metadata": {
        "id": "TNHLndc7IAng",
        "colab": {
          "base_uri": "https://localhost:8080/"
        },
        "outputId": "d3ec2c54-28d8-48a8-aa81-c9ca9a3a4747"
      },
      "execution_count": 16,
      "outputs": [
        {
          "output_type": "stream",
          "name": "stdout",
          "text": [
            "Train accuray: 0.826\n",
            "Test accuray: 0.827\n"
          ]
        }
      ]
    },
    {
      "cell_type": "code",
      "source": [
        "from sklearn import metrics\n",
        "from sklearn.metrics import PrecisionRecallDisplay, RocCurveDisplay, ConfusionMatrixDisplay, classification_report, confusion_matrix, accuracy_score\n",
        " #f1_score, recall, precision\n",
        "\n",
        "print('Classification report:\\n' , classification_report(y_test, y_pred))\n",
        "\n",
        "print('\\n')\n",
        "\n",
        "# Print the accuracy score\n",
        "print(\"Accuracy: \", accuracy_score(y_test, y_pred))\n",
        "\n",
        "print('\\n')\n",
        "\n",
        "# Print the confusion matrix\n",
        "conf_matrix = confusion_matrix(y_test, y_pred)\n",
        "ConfusionMatrixDisplay(conf_matrix).plot()\n"
      ],
      "metadata": {
        "id": "fz_Z0ZoIPjyf",
        "colab": {
          "base_uri": "https://localhost:8080/",
          "height": 727
        },
        "outputId": "a8256954-f772-4e80-a5e4-59ae6cff66c9"
      },
      "execution_count": 17,
      "outputs": [
        {
          "output_type": "stream",
          "name": "stdout",
          "text": [
            "Classification report:\n",
            "               precision    recall  f1-score   support\n",
            "\n",
            "           0       1.00      0.62      0.76     24116\n",
            "           1       0.76      1.00      0.86     29499\n",
            "\n",
            "    accuracy                           0.83     53615\n",
            "   macro avg       0.88      0.81      0.81     53615\n",
            "weighted avg       0.87      0.83      0.82     53615\n",
            "\n",
            "\n",
            "\n",
            "Accuracy:  0.8270260188380117\n",
            "\n",
            "\n"
          ]
        },
        {
          "output_type": "execute_result",
          "data": {
            "text/plain": [
              "<sklearn.metrics._plot.confusion_matrix.ConfusionMatrixDisplay at 0x7f01969721a0>"
            ]
          },
          "metadata": {},
          "execution_count": 17
        },
        {
          "output_type": "display_data",
          "data": {
            "text/plain": [
              "<Figure size 640x480 with 2 Axes>"
            ],
            "image/png": "[encoded data removed]"
          },
          "metadata": {}
        }
      ]
    },
    {
      "cell_type": "code",
      "source": [
        "y_scores = rf.predict_proba(X_test)[:, 1] # extracting probabilities of positive class\n",
        "\n",
        "print('PR CURVE')\n",
        "precision, recall, _ = metrics.precision_recall_curve(y_test, y_scores)\n",
        "PrecisionRecallDisplay(precision=precision, recall=recall).plot()\n",
        "\n",
        "print('\\n')\n",
        "\n",
        "print('ROC CURVE')\n",
        "fpr, tpr, _ = metrics.roc_curve(y_test, y_scores)\n",
        "RocCurveDisplay(fpr=fpr, tpr=tpr).plot()"
      ],
      "metadata": {
        "id": "R_9D60091rSz",
        "colab": {
          "base_uri": "https://localhost:8080/",
          "height": 933
        },
        "outputId": "b1cc8073-0324-4065-d4ab-332053fb9259"
      },
      "execution_count": 18,
      "outputs": [
        {
          "output_type": "stream",
          "name": "stdout",
          "text": [
            "\n",
            "\n"
          ]
        },
        {
          "output_type": "execute_result",
          "data": {
            "text/plain": [
              "<sklearn.metrics._plot.roc_curve.RocCurveDisplay at 0x7f019687b2e0>"
            ]
          },
          "metadata": {},
          "execution_count": 18
        },
        {
          "output_type": "display_data",
          "data": {
            "text/plain": [
              "<Figure size 640x480 with 1 Axes>"
            ],
            "image/png": "[encoded data removed]"
          },
          "metadata": {}
        },
        {
          "output_type": "display_data",
          "data": {
            "text/plain": [
              "<Figure size 640x480 with 1 Axes>"
            ],
            "image/png": "[encoded data removed]"
          },
          "metadata": {}
        }
      ]
    },
    {
      "cell_type": "code",
      "source": [
        "#hyperparameter tuning and cross validation\n",
        "\"\"\"\n",
        "n_estimators: The number of trees in the forest.\n",
        "max_depth: The maximum depth of the tree.\n",
        "min_samples_split: The minimum number of samples required to split an internal node.\n",
        "min_samples_leaf: The minimum number of samples required to be at a leaf node.\n",
        "\"\"\"\n",
        "\n",
        "from sklearn.model_selection import GridSearchCV\n",
        "\n",
        "param_grid = {\n",
        "    'classifier__n_estimators': [100, 200, 300, 400, 500],\n",
        "    'classifier__max_depth': [None, 5, 10, 15, 20],\n",
        "    'classifier__min_samples_split': [2,5,10],\n",
        "    'classifier__min_samples_leaf': [1, 2, 4]\n",
        "}\n",
        "\n",
        "grid_search = GridSearchCV(estimator=rf, param_grid=param_grid, cv=5, scoring='accuracy')\n",
        "\n",
        "grid_search.fit(X_train, y_train)\n",
        "\n"
      ],
      "metadata": {
        "id": "MkJ8w7--3Tbs"
      },
      "execution_count": null,
      "outputs": []
    },
    {
      "cell_type": "code",
      "source": [
        "#best parameters\n",
        "print('Best parameters:', grid_search.best_params_)\n",
        "\n",
        "print('Best score:', grid_search.best_score_)\n",
        "\n",
        "best_model = grid_search.best_estimator_"
      ],
      "metadata": {
        "id": "CxGmZY3WDl9T"
      },
      "execution_count": null,
      "outputs": []
    },
    {
      "cell_type": "code",
      "source": [
        "#Feature importance using permutation importance"
      ],
      "metadata": {
        "id": "UHb3G1_5DrEL"
      },
      "execution_count": null,
      "outputs": []
    },
    {
      "cell_type": "code",
      "source": [
        "#Visualizing the tree\n",
        "import pydot\n",
        "import graphviz\n",
        "from sklearn.tree import export_graphviz\n",
        "#from IPython.display import Image\n",
        "\n",
        "#for i in range(3):\n",
        "     #tree =  rf.estimators_[i]\n",
        "\n",
        "rfc = rf.named_steps['classifier']\n",
        "tree = rfc.estimators_[0]\n",
        "\n",
        "feature_names = rf.named_steps['preprocess'].get_feature_names_out()\n",
        "\n",
        "# Export the image to a dot file\n",
        "dot_data = export_graphviz(tree, out_file=None,\n",
        "                           feature_names=feature_names, proportion=True)\n",
        "\n",
        "graph = graphviz.Source(dot_data)\n",
        "display(graph)"
      ],
      "metadata": {
        "id": "npVxlxVD8yAF"
      },
      "execution_count": null,
      "outputs": []
    },
    {
      "cell_type": "code",
      "source": [
        "import pickle\n",
        "\n",
        "# Specify filename\n",
        "filename = 'random_forest_model.sav'\n",
        "\n",
        "# Save the model to disk\n",
        "with open(filename, 'wb') as file:\n",
        "    pickle.dump(rf, file)\n",
        "\n",
        "print(f\"Model saved as {filename}\")\n"
      ],
      "metadata": {
        "id": "cIG_EJia4t_S"
      },
      "execution_count": null,
      "outputs": []
    },
    {
      "cell_type": "code",
      "source": [
        "#checking if preprocessing worked\n",
        "\n",
        "X_tr_trans = rf.named_steps['preprocess'].transform(X_train)\n",
        "\n",
        "print(np.isnan(X_tr_trans[:, :len(numerical_columns)]).any(), '\\n')\n",
        "\n",
        "# Assuming that all categorical features were originally of type 'object'\n",
        "print(np.issubdtype(X_tr_trans[:, len(categorical_columns)].dtype, np.integer))\n"
      ],
      "metadata": {
        "id": "1iC7J4d2JG08"
      },
      "execution_count": null,
      "outputs": []
    },
    {
      "cell_type": "code",
      "source": [
        "# Check the data type of the NumPy array\n",
        "print(X_tr_trans.dtype)\n"
      ],
      "metadata": {
        "id": "9sccDIiEOsca"
      },
      "execution_count": null,
      "outputs": []
    }
  ]
}