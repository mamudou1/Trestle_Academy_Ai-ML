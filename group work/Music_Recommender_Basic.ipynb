{
 "cells": [
  {
   "cell_type": "markdown",
   "id": "6fd1bac1",
   "metadata": {},
   "source": [
    "# Data Preprocessing"
   ]
  },
  {
   "cell_type": "code",
   "execution_count": null,
   "id": "01e10bb8",
   "metadata": {},
   "outputs": [],
   "source": [
    "# import libraries\n",
    "import pandas as pd\n",
    "import numpy as np\n",
    "import matplotlib.pyplot as plt\n",
    "import seaborn as sns"
   ]
  },
  {
   "cell_type": "code",
   "execution_count": null,
   "id": "1d11440a",
   "metadata": {},
   "outputs": [],
   "source": [
    "# load dataset\n",
    "df_tsv = pd.read_csv('userid-timestamp-artid-artname-traid-traname.tsv', delimiter='\\t', error_bad_lines=False)\n",
    "\n",
    "# view dataset\n",
    "df_tsv"
   ]
  },
  {
   "cell_type": "code",
   "execution_count": null,
   "id": "bbc2ac56",
   "metadata": {},
   "outputs": [],
   "source": [
    "# add column names to df_tsv\n",
    "col_name = ['user_id', 'timestamp', 'artist_id', 'artist_name', 'track_id', 'track_name']\n",
    "df_tsv.columns = col_name\n",
    "\n",
    "# show new dataset\n",
    "df_tsv"
   ]
  },
  {
   "cell_type": "code",
   "execution_count": null,
   "id": "d1444a4b",
   "metadata": {},
   "outputs": [],
   "source": [
    "# check shape of dataset\n",
    "df_tsv.shape"
   ]
  },
  {
   "cell_type": "code",
   "execution_count": null,
   "id": "f1855628",
   "metadata": {},
   "outputs": [],
   "source": [
    "# check datatypes of cols\n",
    "df_tsv.info()"
   ]
  },
  {
   "cell_type": "code",
   "execution_count": null,
   "id": "8e7898f9",
   "metadata": {},
   "outputs": [],
   "source": [
    "# check missing/null values\n",
    "import missingno as msno\n",
    "\n",
    "#plot missing/null values matrix\n",
    "msno.bar(df_tsv, figsize=(8,6))"
   ]
  },
  {
   "cell_type": "code",
   "execution_count": null,
   "id": "562b61eb",
   "metadata": {},
   "outputs": [],
   "source": [
    "# check null values\n",
    "df_tsv.isnull().sum()"
   ]
  },
  {
   "cell_type": "code",
   "execution_count": null,
   "id": "91ee8a10",
   "metadata": {},
   "outputs": [],
   "source": [
    "# percentage of missing values\n",
    "miss_percent = (df_tsv.isnull().mean()) * 100\n",
    "miss_percent"
   ]
  },
  {
   "cell_type": "code",
   "execution_count": null,
   "id": "0b949ea6",
   "metadata": {},
   "outputs": [],
   "source": [
    "# drop unneeded columns\n",
    "unnec_cols = ['artist_id', 'track_id', 'timestamp']\n",
    "df_tsv = df_tsv.drop(df_tsv[unnec_cols], axis=1)"
   ]
  },
  {
   "cell_type": "markdown",
   "id": "fdbcbaa9",
   "metadata": {},
   "source": [
    "# Data Visualization"
   ]
  },
  {
   "cell_type": "code",
   "execution_count": null,
   "id": "10f3a9af",
   "metadata": {},
   "outputs": [],
   "source": [
    "# Top 10 artists\n",
    "top_10_arts = df_tsv['artist_name'].value_counts().nlargest(10)\n",
    "\n",
    "plt.figure(figsize=(8,8))\n",
    "sns.barplot(x=top_10_arts.index, y=top_10_arts.values, palette='viridis')\n",
    "plt.xticks(rotation=45, ha='right')\n",
    "plt.xlabel('Artist Name')\n",
    "plt.ylabel('Number of Interactions')\n",
    "plt.title('Top 10 Most Popular Artists', fontsize=14)\n",
    "plt.tight_layout()\n",
    "plt.show()"
   ]
  },
  {
   "cell_type": "code",
   "execution_count": null,
   "id": "09d5a074",
   "metadata": {},
   "outputs": [],
   "source": [
    "# Most Popular songs\n",
    "\n",
    "top_10_songs = df_tsv['track_name'].value_counts().nlargest(10)\n",
    "\n",
    "plt.figure(figsize=(8,8))\n",
    "sns.barplot(x=top_10_songs.index, y=top_10_songs.values, palette='viridis')\n",
    "plt.xticks(rotation=45, ha='right')\n",
    "plt.xlabel('Popular Songs')\n",
    "plt.ylabel('Number of Times Listened To')\n",
    "plt.title('Top 10 Most Popular Songs', fontsize=14)\n",
    "plt.tight_layout()\n",
    "plt.show()"
   ]
  },
  {
   "cell_type": "code",
   "execution_count": null,
   "id": "59801793",
   "metadata": {},
   "outputs": [],
   "source": [
    "# Add more here"
   ]
  },
  {
   "cell_type": "code",
   "execution_count": null,
   "id": "5ca25a65",
   "metadata": {},
   "outputs": [],
   "source": [
    "# And here"
   ]
  },
  {
   "cell_type": "code",
   "execution_count": null,
   "id": "b44ea02f",
   "metadata": {},
   "outputs": [],
   "source": [
    "# And here"
   ]
  },
  {
   "cell_type": "markdown",
   "id": "f3ddbe18",
   "metadata": {},
   "source": [
    "# Data Transformation"
   ]
  },
  {
   "cell_type": "code",
   "execution_count": null,
   "id": "cfc39c51",
   "metadata": {},
   "outputs": [],
   "source": [
    "# create a listen column\n",
    "df_tsv['listens'] = 1\n",
    "\n",
    "# create user-item matrix\n",
    "user_interaction_matrix = pd.pivot_table(df_tsv, index='user_id', columns='track_name', values='listens', aggfunc='sum', \n",
    "                                    fill_value=0)"
   ]
  },
  {
   "cell_type": "markdown",
   "id": "c84fa7d4",
   "metadata": {},
   "source": [
    "# Model Creation"
   ]
  },
  {
   "cell_type": "code",
   "execution_count": null,
   "id": "0e0d32b3",
   "metadata": {},
   "outputs": [],
   "source": [
    "from sklearn.cluster import KMeans\n",
    "import matplotlib.pyplot as plt\n",
    "\n",
    "# Predict optimal K-means clusters\n",
    "inertia = []\n",
    "for num_clusters in range(1, 11):\n",
    "    kmeans = KMeans(n_clusters=num_clusters, random_state=42)\n",
    "    kmeans.fit(user_interaction_matrix)\n",
    "    inertia.append(kmeans.inertia_)\n",
    "\n",
    "# Plot the Elbow method to show optimal number of clusters required\n",
    "plt.plot(range(1, 11), inertia, marker='o')\n",
    "plt.xlabel('Number of Clusters')\n",
    "plt.ylabel('Inertia')\n",
    "plt.title('Elbow Method for Optimal Cluster Number')\n",
    "plt.show()"
   ]
  },
  {
   "cell_type": "markdown",
   "id": "e6eff019",
   "metadata": {},
   "source": [
    "# Build Recommender System"
   ]
  },
  {
   "cell_type": "code",
   "execution_count": null,
   "id": "77c8b737",
   "metadata": {},
   "outputs": [],
   "source": [
    "def music_recommendation(user_id, num_recommendations):\n",
    "    # Find the cluster that the user belongs to\n",
    "    user_cluster = kmeans.predict(user_interaction_matrix.loc[user_id].values.reshape(1, -1))\n",
    "    \n",
    "    # Get the indices of the songs or artists in the cluster\n",
    "    cluster_indices = user_interaction_matrix.index[kmeans.labels_ == user_cluster[0]]\n",
    "    \n",
    "    # Filter out the songs or artists that the user has already listened to\n",
    "    recommendations = user_interaction_matrix.loc[cluster_indices, user_interaction_matrix.loc[user_id] == 0]\n",
    "    \n",
    "    # Sort the recommendations based on listens and get the top 'num_recommendations' songs or artists\n",
    "    top_recommendations = recommendations.sum(axis=0).sort_values(ascending=False).head(num_recommendations)\n",
    "    \n",
    "    return top_recommendations.index.tolist()\n",
    "\n",
    "# DUMMY CODE:\n",
    "#user_id = 'User123'  # Replace with an actual user ID from the dataset\n",
    "#num_recommendations = 10\n",
    "#recommended_songs = music_recommendation(user_id, num_recommendations)\n",
    "#print(f\"Recommended songs for {user_id}:\")\n",
    "#print(recommended_songs)\n"
   ]
  },
  {
   "cell_type": "markdown",
   "id": "a4370d3b",
   "metadata": {},
   "source": [
    "# Evaluation"
   ]
  },
  {
   "cell_type": "code",
   "execution_count": null,
   "id": "c54ed8b5",
   "metadata": {},
   "outputs": [],
   "source": [
    "from sklearn.model_selection import train_test_split\n",
    "\n",
    "# Split data into training and test sets\n",
    "train_data, test_data = train_test_split(df_tsv, test_size=0.2, random_state=42)\n",
    "\n",
    "# Create a dictionary to store recommended songs for each user in the test set\n",
    "recommended_songs_dict = {}\n",
    "\n",
    "# Generate recommendations for each user in the test set\n",
    "for user_id in test_data['user_id'].unique():\n",
    "    recommended_songs = music_recommendation(user_id, num_recommendations)\n",
    "    recommended_songs_dict[user_id] = recommended_songs\n",
    "\n",
    "# SOME DUMMY CODE!!!\n",
    "# Compare recommendations to actual music listened to by users in the test set\n",
    "# ... perform evaluation and metrics calculation ...\n",
    "\n",
    "# Example: Compare the recommended songs to the actual songs in the test set for a specific user\n",
    "#user_id_to_evaluate = 'User456'\n",
    "#actual_songs_listened = test_data[test_data['user_id'] == user_id_to_evaluate]['song_or_artist'].tolist()\n",
    "#print(f\"Actual songs listened by {user_id_to_evaluate}:\")\n",
    "#print(actual_songs_listened)\n",
    "#print(f\"Recommended songs for {user_id_to_evaluate}:\")\n",
    "#print(recommended_songs_dict[user_id_to_evaluate])"
   ]
  }
 ],
 "metadata": {
  "kernelspec": {
   "display_name": "Python 3 (ipykernel)",
   "language": "python",
   "name": "python3"
  },
  "language_info": {
   "codemirror_mode": {
    "name": "ipython",
    "version": 3
   },
   "file_extension": ".py",
   "mimetype": "text/x-python",
   "name": "python",
   "nbconvert_exporter": "python",
   "pygments_lexer": "ipython3",
   "version": "3.10.9"
  }
 },
 "nbformat": 4,
 "nbformat_minor": 5
}
